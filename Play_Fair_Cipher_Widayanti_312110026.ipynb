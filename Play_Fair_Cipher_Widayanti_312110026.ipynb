{
  "nbformat": 4,
  "nbformat_minor": 0,
  "metadata": {
    "colab": {
      "provenance": [],
      "authorship_tag": "ABX9TyNtDj3wB3e9OPrJiHy6M/DP",
      "include_colab_link": true
    },
    "kernelspec": {
      "name": "python3",
      "display_name": "Python 3"
    },
    "language_info": {
      "name": "python"
    }
  },
  "cells": [
    {
      "cell_type": "markdown",
      "metadata": {
        "id": "view-in-github",
        "colab_type": "text"
      },
      "source": [
        "<a href=\"https://colab.research.google.com/github/Wida1234/UTS_Kriptografi/blob/main/Play_Fair_Cipher_Widayanti_312110026.ipynb\" target=\"_parent\"><img src=\"https://colab.research.google.com/assets/colab-badge.svg\" alt=\"Open In Colab\"/></a>"
      ]
    },
    {
      "cell_type": "code",
      "execution_count": 1,
      "metadata": {
        "colab": {
          "base_uri": "https://localhost:8080/"
        },
        "id": "rNNFwafINTy5",
        "outputId": "9d4c27f5-73eb-42e8-e2d5-ca342073c94a"
      },
      "outputs": [
        {
          "output_type": "stream",
          "name": "stdout",
          "text": [
            "Original text: WIDA\n",
            "Encrypted text: YGEB\n"
          ]
        }
      ],
      "source": [
        "def prepare_text(text):\n",
        "    # Remove non-alphabetic characters and convert to uppercase\n",
        "    cleaned_text = ''.join(char.upper() for char in text if char.isalpha())\n",
        "    return cleaned_text\n",
        "\n",
        "def generate_playfair_matrix(key):\n",
        "    # Generate the Playfair matrix based on the key\n",
        "    alphabet = \"ABCDEFGHIKLMNOPQRSTUVWXYZ\"\n",
        "    key = prepare_text(key)\n",
        "    key += alphabet\n",
        "    key = ''.join(sorted(set(key), key=key.index))\n",
        "\n",
        "    playfair_matrix = [key[i:i+5] for i in range(0, 25, 5)]\n",
        "    return playfair_matrix\n",
        "\n",
        "def find_positions(matrix, char):\n",
        "    # Find the row and column of a character in the Playfair matrix\n",
        "    for i, row in enumerate(matrix):\n",
        "        if char in row:\n",
        "            return i, row.index(char)\n",
        "\n",
        "def playfair_encrypt(plaintext, key):\n",
        "    # Prepare the plaintext and generate the Playfair matrix\n",
        "    plaintext = prepare_text(plaintext)\n",
        "    playfair_matrix = generate_playfair_matrix(key)\n",
        "\n",
        "    # Ensure the plaintext has an even length\n",
        "    if len(plaintext) % 2 != 0:\n",
        "        plaintext += 'X'\n",
        "\n",
        "    # Encrypt the plaintext in pairs\n",
        "    ciphertext = \"\"\n",
        "    for i in range(0, len(plaintext), 2):\n",
        "        char1, char2 = plaintext[i], plaintext[i+1]\n",
        "\n",
        "        # Find the positions of the characters in the matrix\n",
        "        row1, col1 = find_positions(playfair_matrix, char1)\n",
        "        row2, col2 = find_positions(playfair_matrix, char2)\n",
        "\n",
        "        # Handle characters in the same row\n",
        "        if row1 == row2:\n",
        "            ciphertext += playfair_matrix[row1][(col1 + 1) % 5]\n",
        "            ciphertext += playfair_matrix[row2][(col2 + 1) % 5]\n",
        "        # Handle characters in the same column\n",
        "        elif col1 == col2:\n",
        "            ciphertext += playfair_matrix[(row1 + 1) % 5][col1]\n",
        "            ciphertext += playfair_matrix[(row2 + 1) % 5][col2]\n",
        "        # Handle characters forming a rectangle\n",
        "        else:\n",
        "            ciphertext += playfair_matrix[row1][col2]\n",
        "            ciphertext += playfair_matrix[row2][col1]\n",
        "\n",
        "    return ciphertext\n",
        "\n",
        "# Example usage:\n",
        "plaintext = \"WIDA\"\n",
        "key = \"090302\"\n",
        "encrypted_text = playfair_encrypt(plaintext, key)\n",
        "print(f\"Original text: {plaintext}\")\n",
        "print(f\"Encrypted text: {encrypted_text}\")\n"
      ]
    }
  ]
}