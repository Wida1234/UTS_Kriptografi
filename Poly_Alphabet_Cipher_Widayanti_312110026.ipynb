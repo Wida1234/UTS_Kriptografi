{
  "nbformat": 4,
  "nbformat_minor": 0,
  "metadata": {
    "colab": {
      "provenance": [],
      "authorship_tag": "ABX9TyMRpqz7Q95m6h6rXsW3tnm+",
      "include_colab_link": true
    },
    "kernelspec": {
      "name": "python3",
      "display_name": "Python 3"
    },
    "language_info": {
      "name": "python"
    }
  },
  "cells": [
    {
      "cell_type": "markdown",
      "metadata": {
        "id": "view-in-github",
        "colab_type": "text"
      },
      "source": [
        "<a href=\"https://colab.research.google.com/github/Wida1234/UTS_Kriptografi/blob/main/Poly_Alphabet_Cipher_Widayanti_312110026.ipynb\" target=\"_parent\"><img src=\"https://colab.research.google.com/assets/colab-badge.svg\" alt=\"Open In Colab\"/></a>"
      ]
    },
    {
      "cell_type": "code",
      "execution_count": 1,
      "metadata": {
        "colab": {
          "base_uri": "https://localhost:8080/"
        },
        "id": "Is8FDMYILZfC",
        "outputId": "4353973f-4b98-41e8-ddae-c7935627bf40"
      },
      "outputs": [
        {
          "output_type": "stream",
          "name": "stdout",
          "text": [
            "Original text: SELAMAT MALAM\n",
            "Encrypted text: ITZNCPH CPZNC\n"
          ]
        }
      ],
      "source": [
        "def polyalphabetic_cipher(plaintext, key):\n",
        "    result = \"\"\n",
        "    key = key.upper()\n",
        "    key_length = len(key)\n",
        "\n",
        "    for i, char in enumerate(plaintext):\n",
        "        if char.isalpha():\n",
        "            # Determine whether the character is uppercase or lowercase\n",
        "            is_upper = char.isupper()\n",
        "\n",
        "            # Get the corresponding key character for the current position\n",
        "            key_char = key[i % key_length]\n",
        "\n",
        "            # Calculate the shift based on the key character\n",
        "            shift = ord(key_char) - ord('A')\n",
        "\n",
        "            # Shift the character\n",
        "            shifted_char = chr((ord(char) - ord('A' if is_upper else 'a') - shift) % 26 + ord('A' if is_upper else 'a'))\n",
        "\n",
        "            result += shifted_char\n",
        "        else:\n",
        "            # If the character is not a letter, leave it unchanged\n",
        "            result += char\n",
        "\n",
        "    return result\n",
        "\n",
        "# Example usage:\n",
        "plaintext = \"SELAMAT MALAM\"\n",
        "key = \"1234\"\n",
        "encrypted_text = polyalphabetic_cipher(plaintext, key)\n",
        "print(f\"Original text: {plaintext}\")\n",
        "print(f\"Encrypted text: {encrypted_text}\")\n"
      ]
    }
  ]
}