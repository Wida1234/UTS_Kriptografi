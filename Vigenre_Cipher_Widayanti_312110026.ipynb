{
  "nbformat": 4,
  "nbformat_minor": 0,
  "metadata": {
    "colab": {
      "provenance": [],
      "authorship_tag": "ABX9TyMYKyVIOSkEHtmhIklh7HSV",
      "include_colab_link": true
    },
    "kernelspec": {
      "name": "python3",
      "display_name": "Python 3"
    },
    "language_info": {
      "name": "python"
    }
  },
  "cells": [
    {
      "cell_type": "markdown",
      "metadata": {
        "id": "view-in-github",
        "colab_type": "text"
      },
      "source": [
        "<a href=\"https://colab.research.google.com/github/Wida1234/UTS_Kriptografi/blob/main/Vigenre_Cipher_Widayanti_312110026.ipynb\" target=\"_parent\"><img src=\"https://colab.research.google.com/assets/colab-badge.svg\" alt=\"Open In Colab\"/></a>"
      ]
    },
    {
      "cell_type": "code",
      "execution_count": 1,
      "metadata": {
        "colab": {
          "base_uri": "https://localhost:8080/"
        },
        "id": "vJEV_0nNKpq5",
        "outputId": "9fdbc8e5-4a42-4f2d-a864-575178c7e289"
      },
      "outputs": [
        {
          "output_type": "stream",
          "name": "stdout",
          "text": [
            "Original text:  Selamat Datang\n",
            "Encrypted text:  Bwumvlc Vjfjyp\n"
          ]
        }
      ],
      "source": [
        "def vigenere_cipher(plaintext, key):\n",
        "    result = \"\"\n",
        "    key = key.upper()\n",
        "    key_index = 0\n",
        "\n",
        "    for char in plaintext:\n",
        "        if char.isalpha():\n",
        "            # Determine whether the character is uppercase or lowercase\n",
        "            is_upper = char.isupper()\n",
        "\n",
        "            # Shift the character using the corresponding key character\n",
        "            key_char = key[key_index % len(key)]\n",
        "            shift = ord(key_char) - ord('A')\n",
        "            shifted_char = chr((ord(char) - ord('A' if is_upper else 'a') + shift) % 26 + ord('A' if is_upper else 'a'))\n",
        "\n",
        "            result += shifted_char\n",
        "\n",
        "            # Move to the next key character\n",
        "            key_index += 1\n",
        "        else:\n",
        "            # If the character is not a letter, leave it unchanged\n",
        "            result += char\n",
        "\n",
        "    return result\n",
        "\n",
        "# Example usage:\n",
        "plaintext = \" Selamat Datang\"\n",
        "key = \"090302\"\n",
        "encrypted_text = vigenere_cipher(plaintext, key)\n",
        "print(f\"Original text: {plaintext}\")\n",
        "print(f\"Encrypted text: {encrypted_text}\")\n"
      ]
    }
  ]
}