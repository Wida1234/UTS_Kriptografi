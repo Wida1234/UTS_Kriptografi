{
  "nbformat": 4,
  "nbformat_minor": 0,
  "metadata": {
    "colab": {
      "provenance": [],
      "authorship_tag": "ABX9TyNvxpRGS5M4nuMBwrDQHatm",
      "include_colab_link": true
    },
    "kernelspec": {
      "name": "python3",
      "display_name": "Python 3"
    },
    "language_info": {
      "name": "python"
    }
  },
  "cells": [
    {
      "cell_type": "markdown",
      "metadata": {
        "id": "view-in-github",
        "colab_type": "text"
      },
      "source": [
        "<a href=\"https://colab.research.google.com/github/Wida1234/UTS_Kriptografi/blob/main/Affine_Cipher_Widayanti_312110026.ipynb\" target=\"_parent\"><img src=\"https://colab.research.google.com/assets/colab-badge.svg\" alt=\"Open In Colab\"/></a>"
      ]
    },
    {
      "cell_type": "code",
      "execution_count": 1,
      "metadata": {
        "colab": {
          "base_uri": "https://localhost:8080/"
        },
        "id": "u6B4jvg0OQFu",
        "outputId": "5b0ae1d5-9d41-45f5-921d-cbef8e741589"
      },
      "outputs": [
        {
          "output_type": "stream",
          "name": "stdout",
          "text": [
            "Original text: WIDA\n",
            "Encrypted text: TDOF\n",
            "Decrypted text: WIDA\n"
          ]
        }
      ],
      "source": [
        "def mod_inverse(a, m):\n",
        "    # Compute the modular inverse of a modulo m\n",
        "    for i in range(1, m):\n",
        "        if (a * i) % m == 1:\n",
        "            return i\n",
        "    return None\n",
        "\n",
        "def affine_encrypt(plaintext, a, b):\n",
        "    # Encryption function E(x) = (ax + b) mod m\n",
        "    m = 26  # Size of the English alphabet\n",
        "\n",
        "    ciphertext = \"\"\n",
        "    for char in plaintext:\n",
        "        if char.isalpha():\n",
        "            is_upper = char.isupper()\n",
        "            x = ord(char.upper()) - ord('A')\n",
        "            encrypted_char = chr(((a * x + b) % m) + ord('A' if is_upper else 'a'))\n",
        "            ciphertext += encrypted_char\n",
        "        else:\n",
        "            ciphertext += char\n",
        "\n",
        "    return ciphertext\n",
        "\n",
        "def affine_decrypt(ciphertext, a, b):\n",
        "    # Decryption function D(x) = a^(-1)(x - b) mod m\n",
        "    m = 26  # Size of the English alphabet\n",
        "\n",
        "    # Calculate the modular inverse of a\n",
        "    a_inverse = mod_inverse(a, m)\n",
        "\n",
        "    if a_inverse is None:\n",
        "        raise ValueError(\"Invalid key: Modular inverse does not exist.\")\n",
        "\n",
        "    plaintext = \"\"\n",
        "    for char in ciphertext:\n",
        "        if char.isalpha():\n",
        "            is_upper = char.isupper()\n",
        "            x = ord(char.upper()) - ord('A')\n",
        "            decrypted_char = chr(((a_inverse * (x - b)) % m) + ord('A' if is_upper else 'a'))\n",
        "            plaintext += decrypted_char\n",
        "        else:\n",
        "            plaintext += char\n",
        "\n",
        "    return plaintext\n",
        "\n",
        "# Example usage:\n",
        "plaintext = \"WIDA\"\n",
        "a, b = 3, 5\n",
        "encrypted_text = affine_encrypt(plaintext, a, b)\n",
        "decrypted_text = affine_decrypt(encrypted_text, a, b)\n",
        "\n",
        "print(f\"Original text: {plaintext}\")\n",
        "print(f\"Encrypted text: {encrypted_text}\")\n",
        "print(f\"Decrypted text: {decrypted_text}\")\n"
      ]
    }
  ]
}